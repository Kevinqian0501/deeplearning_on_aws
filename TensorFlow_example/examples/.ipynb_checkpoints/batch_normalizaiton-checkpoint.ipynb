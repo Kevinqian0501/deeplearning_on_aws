{
 "cells": [
  {
   "cell_type": "code",
   "execution_count": 1,
   "metadata": {},
   "outputs": [],
   "source": [
    "import tensorflow as tf\n",
    "import numpy as np\n",
    "import matplotlib.pyplot as plt\n",
    "import matplotlib.colors as colors\n",
    "import matplotlib.cm as cmx\n",
    "%matplotlib inline\n",
    "plt.style.use('ggplot')"
   ]
  },
  {
   "cell_type": "code",
   "execution_count": 2,
   "metadata": {},
   "outputs": [],
   "source": [
    "def pseudo_function(x, x_i, n_data):\n",
    "    n_wave = 5\n",
    "    exp_max = 1\n",
    "    exp_min = -1\n",
    "    bias = 0.5\n",
    "    a = 1.5\n",
    "    \n",
    "    radian_unit = (np.pi * n_wave) / n_data\n",
    "    exp_unit = (exp_max - exp_min) / n_data \n",
    "    \n",
    "    y = np.sin(x_i*radian_unit)* np.exp(exp_max-(exp_unit*x_i)) + bias + a*x\n",
    "    \n",
    "    return y"
   ]
  },
  {
   "cell_type": "code",
   "execution_count": 3,
   "metadata": {},
   "outputs": [
    {
     "data": {
      "text/plain": [
       "[<matplotlib.lines.Line2D at 0x7f2b6b9d3350>]"
      ]
     },
     "execution_count": 3,
     "metadata": {},
     "output_type": "execute_result"
    },
    {
     "data": {
      "image/png": "[encoded data removed]",
      "text/plain": [
       "<matplotlib.figure.Figure at 0x7f2b6b751450>"
      ]
     },
     "metadata": {},
     "output_type": "display_data"
    }
   ],
   "source": [
    "n_data = 100\n",
    "x_range = (-1, 1)\n",
    "\n",
    "X_train = np.linspace(-1, 1, n_data,dtype=np.float32)\n",
    "Y_train = np.array([pseudo_function(x,x_i,n_data) for x_i, x in enumerate(list(X_train))], dtype=np.float32)\n",
    "plt.cla()\n",
    "plt.plot(X_train, Y_train, 'ro', alpha=0.4, color='black')"
   ]
  },
  {
   "cell_type": "code",
   "execution_count": 4,
   "metadata": {},
   "outputs": [
    {
     "name": "stdout",
     "output_type": "stream",
     "text": [
      "X_train shape : (100, 1)\n",
      "Y_train shape : (100, 1)\n"
     ]
    }
   ],
   "source": [
    "# reshape for model\n",
    "X_train = np.reshape(X_train, newshape=[-1,1])\n",
    "Y_train = np.reshape(Y_train, newshape=[-1,1])\n",
    "print(\"X_train shape : {}\\nY_train shape : {}\".format(np.shape(X_train), np.shape(X_train)))"
   ]
  },
  {
   "cell_type": "markdown",
   "metadata": {},
   "source": [
    "# 2. Make model & Design cost function & optimizer"
   ]
  },
  {
   "cell_type": "code",
   "execution_count": 5,
   "metadata": {},
   "outputs": [],
   "source": [
    "with tf.variable_scope('variable'):\n",
    "    X = tf.placeholder(dtype=tf.float32, \n",
    "                       shape=[None,1],\n",
    "                       name=\"X\")\n",
    "    Y = tf.placeholder(dtype=tf.float32,\n",
    "                       shape=[None,1],\n",
    "                       name=\"Y\")\n",
    "    learning_rate = tf.placeholder(dtype=tf.float32, name='learning_rate')\n",
    "    is_training = tf.placeholder(dtype=tf.bool, name='is_training')"
   ]
  },
  {
   "cell_type": "code",
   "execution_count": 6,
   "metadata": {},
   "outputs": [],
   "source": [
    "def batch_norm_wrapper(X, is_training, decay, name=None):\n",
    "    \"\"\"\n",
    "    Reference : \"Batch normalization: Accelerating deep network training by reducing internal covariate shift.\", https://arxiv.org/abs/1502.03167\n",
    "    \"\"\"\n",
    "    with tf.variable_scope(name or \"batch_nomalization\"):\n",
    "        gamma = tf.Variable(tf.ones([X.get_shape()[-1]]), \n",
    "                            trainable=True, \n",
    "                            name=\"gamma\")\n",
    "        beta = tf.Variable(tf.zeros([X.get_shape()[-1]]), \n",
    "                           trainable=True, \n",
    "                           name=\"beta\")\n",
    "        \n",
    "        global_mean = tf.Variable(tf.zeros([X.get_shape()[-1]]), \n",
    "                                  trainable=False, \n",
    "                                  name=\"global_mean\")\n",
    "        global_var = tf.Variable(tf.ones([X.get_shape()[-1]]), \n",
    "                                 trainable=False,\n",
    "                                 name=\"global_var\")\n",
    "\n",
    "        def calc_moments_in_train():\n",
    "            batch_mean, batch_var = tf.nn.moments(X,[0])\n",
    "            global_mean_update = tf.assign(global_mean,\n",
    "                                   global_mean * decay + batch_mean * (1 - decay))\n",
    "            global_var_update = tf.assign(global_var,\n",
    "                                  global_var * decay + batch_var * (1 - decay))\n",
    "            with tf.control_dependencies([global_mean_update, global_var_update]):\n",
    "                return tf.identity(batch_mean), tf.identity(batch_var)\n",
    "\n",
    "        def calc_moments_in_predict():\n",
    "            return global_mean, global_var\n",
    "\n",
    "        mean, var = tf.cond(is_training, \n",
    "                            calc_moments_in_train,\n",
    "                            calc_moments_in_predict\n",
    "                           )\n",
    "    \n",
    "    return tf.nn.batch_normalization(X, mean, var, beta, gamma, 1e-3)\n",
    "\n",
    "\n",
    "\n",
    "def flatten(x, name=None):\n",
    "    with tf.variable_scope('flatten'):\n",
    "        dims = x.get_shape().as_list()\n",
    "        if len(dims) == 4:\n",
    "            flattened = tf.reshape(\n",
    "                x,\n",
    "                shape=[-1, dims[1] * dims[2] * dims[3]])\n",
    "        elif len(dims) == 2 or len(dims) == 1:\n",
    "            flattened = x\n",
    "        else:\n",
    "            raise ValueError('Expected n dimensions of 1, 2 or 4.  Found:',\n",
    "                             len(dims))\n",
    "\n",
    "        return flattened\n",
    "\n",
    "def linear(x, n_output, is_batch_norm=False, is_training=False, name=None, activation=None):\n",
    "    if len(x.get_shape()) != 2:\n",
    "        x = flatten(x)\n",
    "\n",
    "    n_input = x.get_shape().as_list()[1]\n",
    "    with tf.variable_scope(name or \"fc\"):\n",
    "        W = tf.get_variable(\n",
    "            name='W',\n",
    "            shape=[n_input, n_output],\n",
    "            dtype=tf.float32,\n",
    "            initializer=tf.contrib.layers.xavier_initializer())\n",
    "\n",
    "        b = tf.get_variable(\n",
    "            name='b',\n",
    "            shape=[n_output],\n",
    "            dtype=tf.float32,\n",
    "            initializer=tf.constant_initializer(0.0))\n",
    "\n",
    "        h = tf.nn.bias_add(\n",
    "            name='h',\n",
    "            value=tf.matmul(x, W),\n",
    "            bias=b)\n",
    "        \n",
    "        if is_batch_norm:\n",
    "            h = batch_norm_wrapper(h, is_training, decay = 0.5)\n",
    "        \n",
    "        if activation:\n",
    "            h = activation(h)\n",
    "\n",
    "        return h, W"
   ]
  },
  {
   "cell_type": "code",
   "execution_count": 7,
   "metadata": {},
   "outputs": [],
   "source": [
    "with tf.variable_scope('mlp_model'):\n",
    "    # declaration of model\n",
    "    \n",
    "    h, _ = linear(X, 16, is_batch_norm=True, is_training=is_training, name=\"layer_1\", activation=tf.nn.relu)\n",
    "    h, _ = linear(h, 16, is_batch_norm=True, is_training=is_training, name=\"layer_2\", activation=tf.nn.relu)\n",
    "    Y_pred, _ = linear(h, 1, name=\"layer_3\")\n",
    "    \n",
    "    # optimization\n",
    "    cost = tf.reduce_mean(tf.squared_difference(Y_pred, Y))\n",
    "    optimizer = tf.train.AdamOptimizer(learning_rate).minimize(cost)\n",
    "    init = tf.global_variables_initializer()\n"
   ]
  },
  {
   "cell_type": "markdown",
   "metadata": {},
   "source": [
    "# 3. Train & Draw graph¶"
   ]
  },
  {
   "cell_type": "code",
   "execution_count": 19,
   "metadata": {},
   "outputs": [
    {
     "data": {
      "image/png": "[encoded data removed]",
      "text/plain": [
       "<matplotlib.figure.Figure at 0x7f2b2c6a6f10>"
      ]
     },
     "metadata": {},
     "output_type": "display_data"
    }
   ],
   "source": [
    "lr = 0.005\n",
    "n_epoch = 6000\n",
    "\n",
    "draw_interval = 300\n",
    "plt.cla()\n",
    "plt.plot(X_train, Y_train, 'ro', alpha=0.4, label=\"origin\", color=\"black\")\n",
    "\n",
    "cmap = plt.get_cmap('coolwarm')\n",
    "c_norm = colors.Normalize(vmin=0, vmax=n_epoch)\n",
    "scalar_map = cmx.ScalarMappable(norm=c_norm, cmap=cmap)\n",
    "\n",
    "sess = tf.Session() \n",
    "sess.run(init)\n",
    "for epoch_i in range(n_epoch):\n",
    "    _ = sess.run(optimizer, feed_dict={X:X_train, \n",
    "                                   Y:Y_train, \n",
    "                                   learning_rate:lr,\n",
    "                                   is_training:True,})\n",
    "    if epoch_i % draw_interval == 0 :\n",
    "        X_show = X_train.copy()\n",
    "        Y_show = sess.run(Y_pred, \n",
    "                          feed_dict={X:X_show, \n",
    "                                     is_training:False,})\n",
    "        \n",
    "        plt.plot(X_show, Y_show, alpha=epoch_i/(0.0+n_epoch), color=scalar_map.to_rgba(epoch_i))"
   ]
  },
  {
   "cell_type": "code",
   "execution_count": null,
   "metadata": {},
   "outputs": [],
   "source": []
  }
 ],
 "metadata": {
  "kernelspec": {
   "display_name": "Python 2",
   "language": "python",
   "name": "python2"
  },
  "language_info": {
   "codemirror_mode": {
    "name": "ipython",
    "version": 2
   },
   "file_extension": ".py",
   "mimetype": "text/x-python",
   "name": "python",
   "nbconvert_exporter": "python",
   "pygments_lexer": "ipython2",
   "version": "2.7.12"
  }
 },
 "nbformat": 4,
 "nbformat_minor": 2
}
